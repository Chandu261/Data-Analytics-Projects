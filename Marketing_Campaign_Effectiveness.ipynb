{
  "nbformat": 4,
  "nbformat_minor": 0,
  "metadata": {
    "colab": {
      "provenance": [],
      "toc_visible": true,
      "authorship_tag": "ABX9TyPgwU+QigSw/kTqqbBQD4ZR",
      "include_colab_link": true
    },
    "kernelspec": {
      "name": "python3",
      "display_name": "Python 3"
    },
    "language_info": {
      "name": "python"
    }
  },
  "cells": [
    {
      "cell_type": "markdown",
      "metadata": {
        "id": "view-in-github",
        "colab_type": "text"
      },
      "source": [
        "<a href=\"https://colab.research.google.com/github/Chandu261/Data-Analytics-Projects/blob/main/Marketing_Campaign_Effectiveness.ipynb\" target=\"_parent\"><img src=\"https://colab.research.google.com/assets/colab-badge.svg\" alt=\"Open In Colab\"/></a>"
      ]
    },
    {
      "cell_type": "code",
      "source": [
        "import pandas as pd\n",
        "import matplotlib.pyplot as plt\n",
        "import seaborn as sns"
      ],
      "metadata": {
        "id": "STTZxiClyLZU"
      },
      "execution_count": 1,
      "outputs": []
    },
    {
      "cell_type": "markdown",
      "source": [],
      "metadata": {
        "id": "INVb-99nyKoO"
      }
    },
    {
      "cell_type": "code",
      "execution_count": 2,
      "metadata": {
        "id": "gGmDqyz3xvau"
      },
      "outputs": [],
      "source": [
        "# Load the data\n",
        "df = pd.read_csv('Marketing_Data.csv')"
      ]
    },
    {
      "cell_type": "code",
      "source": [
        "# Display the first few rows and data info\n",
        "print(\"Initial data:\")\n",
        "print(df.head())\n",
        "print(\"\\nData info:\")\n",
        "print(df.info())"
      ],
      "metadata": {
        "colab": {
          "base_uri": "https://localhost:8080/"
        },
        "id": "u89WXxdeyS6p",
        "outputId": "50c26051-13ee-4661-d077-eb78a70eb88d"
      },
      "execution_count": 3,
      "outputs": [
        {
          "output_type": "stream",
          "name": "stdout",
          "text": [
            "Initial data:\n",
            "   Campaign_ID  Channel        Date  Impressions  Clicks  Conversions  Cost\n",
            "0            1    Email  01-01-2023        10000     200           50   500\n",
            "1            2   Social  02-01-2023        15000     300           75   700\n",
            "2            3   Search  03-01-2023        20000     400          100   900\n",
            "3            4  Display  04-01-2023        12000     240           60   600\n",
            "4            5    Email  05-01-2023        11000     220           55   550\n",
            "\n",
            "Data info:\n",
            "<class 'pandas.core.frame.DataFrame'>\n",
            "RangeIndex: 10 entries, 0 to 9\n",
            "Data columns (total 7 columns):\n",
            " #   Column       Non-Null Count  Dtype \n",
            "---  ------       --------------  ----- \n",
            " 0   Campaign_ID  10 non-null     int64 \n",
            " 1   Channel      10 non-null     object\n",
            " 2   Date         10 non-null     object\n",
            " 3   Impressions  10 non-null     int64 \n",
            " 4   Clicks       10 non-null     int64 \n",
            " 5   Conversions  10 non-null     int64 \n",
            " 6   Cost         10 non-null     int64 \n",
            "dtypes: int64(5), object(2)\n",
            "memory usage: 688.0+ bytes\n",
            "None\n"
          ]
        }
      ]
    },
    {
      "cell_type": "code",
      "source": [
        "# Step 1: Data Cleaning\n",
        "print(\"\\nStep 1: Data Cleaning\")"
      ],
      "metadata": {
        "colab": {
          "base_uri": "https://localhost:8080/"
        },
        "id": "qkF0jVA6yS9g",
        "outputId": "5a487c12-688d-43fc-fceb-8f4292386997"
      },
      "execution_count": 4,
      "outputs": [
        {
          "output_type": "stream",
          "name": "stdout",
          "text": [
            "\n",
            "Step 1: Data Cleaning\n"
          ]
        }
      ]
    },
    {
      "cell_type": "code",
      "source": [
        "# Convert Date to datetime\n",
        "df['Date'] = pd.to_datetime(df['Date'], format='%d-%m-%Y')"
      ],
      "metadata": {
        "id": "OTUpA_yRyTAT"
      },
      "execution_count": 5,
      "outputs": []
    },
    {
      "cell_type": "code",
      "source": [
        "# Check for missing values\n",
        "print(\"\\nMissing values:\")\n",
        "print(df.isnull().sum())"
      ],
      "metadata": {
        "colab": {
          "base_uri": "https://localhost:8080/"
        },
        "id": "xDMvo-rhyTDA",
        "outputId": "a8940191-1063-4b96-887a-e0f523a6f05c"
      },
      "execution_count": 6,
      "outputs": [
        {
          "output_type": "stream",
          "name": "stdout",
          "text": [
            "\n",
            "Missing values:\n",
            "Campaign_ID    0\n",
            "Channel        0\n",
            "Date           0\n",
            "Impressions    0\n",
            "Clicks         0\n",
            "Conversions    0\n",
            "Cost           0\n",
            "dtype: int64\n"
          ]
        }
      ]
    },
    {
      "cell_type": "code",
      "source": [
        "# Remove any duplicate rows\n",
        "df = df.drop_duplicates()\n",
        "print(f\"\\nShape after removing duplicates: {df.shape}\")"
      ],
      "metadata": {
        "colab": {
          "base_uri": "https://localhost:8080/"
        },
        "id": "1BCICiYMyTGV",
        "outputId": "0ee2788b-e44e-4553-c278-9e17b3a7f855"
      },
      "execution_count": 7,
      "outputs": [
        {
          "output_type": "stream",
          "name": "stdout",
          "text": [
            "\n",
            "Shape after removing duplicates: (10, 7)\n"
          ]
        }
      ]
    },
    {
      "cell_type": "code",
      "source": [
        "# Ensure numeric columns are of the correct type\n",
        "numeric_cols = ['Impressions', 'Clicks', 'Conversions', 'Cost']\n",
        "df[numeric_cols] = df[numeric_cols].apply(pd.to_numeric, errors='coerce')"
      ],
      "metadata": {
        "id": "gxmHy4BmyocQ"
      },
      "execution_count": 8,
      "outputs": []
    },
    {
      "cell_type": "code",
      "source": [
        "print(\"\\nData types after cleaning:\")\n",
        "print(df.dtypes)\n"
      ],
      "metadata": {
        "colab": {
          "base_uri": "https://localhost:8080/"
        },
        "id": "qP2r5qyjyofK",
        "outputId": "abec4c1e-ab87-4206-edc6-f48707124119"
      },
      "execution_count": 9,
      "outputs": [
        {
          "output_type": "stream",
          "name": "stdout",
          "text": [
            "\n",
            "Data types after cleaning:\n",
            "Campaign_ID             int64\n",
            "Channel                object\n",
            "Date           datetime64[ns]\n",
            "Impressions             int64\n",
            "Clicks                  int64\n",
            "Conversions             int64\n",
            "Cost                    int64\n",
            "dtype: object\n"
          ]
        }
      ]
    },
    {
      "cell_type": "code",
      "source": [
        "# Step 2: Calculate Key Metrics\n",
        "print(\"\\nStep 2: Calculate Key Metrics\")"
      ],
      "metadata": {
        "colab": {
          "base_uri": "https://localhost:8080/"
        },
        "id": "VKEOFgZByoin",
        "outputId": "1db946e8-ae05-4002-b3f5-8fe8ea9dd280"
      },
      "execution_count": 10,
      "outputs": [
        {
          "output_type": "stream",
          "name": "stdout",
          "text": [
            "\n",
            "Step 2: Calculate Key Metrics\n"
          ]
        }
      ]
    },
    {
      "cell_type": "code",
      "source": [
        "# Calculate Click-Through Rate (CTR)\n",
        "df['CTR'] = df['Clicks'] / df['Impressions']"
      ],
      "metadata": {
        "id": "Pa1rkflZyo8q"
      },
      "execution_count": 11,
      "outputs": []
    },
    {
      "cell_type": "code",
      "source": [
        "# Calculate Conversion Rate\n",
        "df['Conversion_Rate'] = df['Conversions'] / df['Clicks']"
      ],
      "metadata": {
        "id": "TQz8xxlvy7Xx"
      },
      "execution_count": 12,
      "outputs": []
    },
    {
      "cell_type": "code",
      "source": [
        "# Calculate Cost Per Click (CPC)\n",
        "df['CPC'] = df['Cost'] / df['Clicks']"
      ],
      "metadata": {
        "id": "bQsiDR9Yy7aw"
      },
      "execution_count": 13,
      "outputs": []
    },
    {
      "cell_type": "code",
      "source": [
        "# Calculate Cost Per Acquisition (CPA)\n",
        "df['CPA'] = df['Cost'] / df['Conversions']"
      ],
      "metadata": {
        "id": "yc86uMsjy7dr"
      },
      "execution_count": 14,
      "outputs": []
    },
    {
      "cell_type": "code",
      "source": [
        "# Calculate Return on Investment (ROI)\n",
        "# Assuming an average value per conversion of $100\n",
        "df['Revenue'] = df['Conversions'] * 100\n",
        "df['ROI'] = (df['Revenue'] - df['Cost']) / df['Cost']\n",
        "\n",
        "print(\"\\nFinal dataframe with calculated metrics:\")\n",
        "print(df.head())"
      ],
      "metadata": {
        "colab": {
          "base_uri": "https://localhost:8080/"
        },
        "id": "xW6vXG37y7gX",
        "outputId": "3d0600cb-d95e-441e-9f53-a0fd4623c300"
      },
      "execution_count": 15,
      "outputs": [
        {
          "output_type": "stream",
          "name": "stdout",
          "text": [
            "\n",
            "Final dataframe with calculated metrics:\n",
            "   Campaign_ID  Channel       Date  Impressions  Clicks  Conversions  Cost  \\\n",
            "0            1    Email 2023-01-01        10000     200           50   500   \n",
            "1            2   Social 2023-01-02        15000     300           75   700   \n",
            "2            3   Search 2023-01-03        20000     400          100   900   \n",
            "3            4  Display 2023-01-04        12000     240           60   600   \n",
            "4            5    Email 2023-01-05        11000     220           55   550   \n",
            "\n",
            "    CTR  Conversion_Rate       CPC        CPA  Revenue        ROI  \n",
            "0  0.02             0.25  2.500000  10.000000     5000   9.000000  \n",
            "1  0.02             0.25  2.333333   9.333333     7500   9.714286  \n",
            "2  0.02             0.25  2.250000   9.000000    10000  10.111111  \n",
            "3  0.02             0.25  2.500000  10.000000     6000   9.000000  \n",
            "4  0.02             0.25  2.500000  10.000000     5500   9.000000  \n"
          ]
        }
      ]
    },
    {
      "cell_type": "code",
      "source": [
        "# Basic statistical summary\n",
        "print(\"\\nStatistical summary of key metrics:\")\n",
        "print(df[['CTR', 'Conversion_Rate', 'CPC', 'CPA', 'ROI']].describe())"
      ],
      "metadata": {
        "colab": {
          "base_uri": "https://localhost:8080/"
        },
        "id": "ivYB5rRfy7jl",
        "outputId": "cda7e060-1ed8-42e6-dd7d-1344da352108"
      },
      "execution_count": 16,
      "outputs": [
        {
          "output_type": "stream",
          "name": "stdout",
          "text": [
            "\n",
            "Statistical summary of key metrics:\n",
            "                CTR  Conversion_Rate        CPC        CPA        ROI\n",
            "count  1.000000e+01            10.00  10.000000  10.000000  10.000000\n",
            "mean   2.000000e-02             0.25   2.404193   9.616772   9.416970\n",
            "std    3.657118e-18             0.00   0.106049   0.424196   0.465384\n",
            "min    2.000000e-02             0.25   2.250000   9.000000   9.000000\n",
            "25%    2.000000e-02             0.25   2.335938   9.343750   9.000000\n",
            "50%    2.000000e-02             0.25   2.426471   9.705882   9.312500\n",
            "75%    2.000000e-02             0.25   2.500000  10.000000   9.702381\n",
            "max    2.000000e-02             0.25   2.500000  10.000000  10.111111\n"
          ]
        }
      ]
    },
    {
      "cell_type": "code",
      "source": [
        "# Grouping by Channel\n",
        "channel_performance = df.groupby('Channel').agg({\n",
        "    'Impressions': 'sum',\n",
        "    'Clicks': 'sum',\n",
        "    'Conversions': 'sum',\n",
        "    'Cost': 'sum',\n",
        "    'CTR': 'mean',\n",
        "    'Conversion_Rate': 'mean',\n",
        "    'CPC': 'mean',\n",
        "    'CPA': 'mean',\n",
        "    'ROI': 'mean'\n",
        "})\n",
        "\n",
        "print(\"\\nPerformance by Channel:\")\n",
        "print(channel_performance)"
      ],
      "metadata": {
        "colab": {
          "base_uri": "https://localhost:8080/"
        },
        "id": "71PLaWPPzThD",
        "outputId": "89f7ceb6-4a16-4e46-c107-ba2c926f35f3"
      },
      "execution_count": 17,
      "outputs": [
        {
          "output_type": "stream",
          "name": "stdout",
          "text": [
            "\n",
            "Performance by Channel:\n",
            "         Impressions  Clicks  Conversions  Cost   CTR  Conversion_Rate  \\\n",
            "Channel                                                                  \n",
            "Display        25000     500          125  1250  0.02             0.25   \n",
            "Email          35000     700          175  1750  0.02             0.25   \n",
            "Search         41000     820          205  1850  0.02             0.25   \n",
            "Social         48000     960          240  2250  0.02             0.25   \n",
            "\n",
            "              CPC        CPA        ROI  \n",
            "Channel                                  \n",
            "Display  2.500000  10.000000   9.000000  \n",
            "Email    2.500000  10.000000   9.000000  \n",
            "Search   2.255952   9.023810  10.081871  \n",
            "Social   2.343342   9.373366   9.668651  \n"
          ]
        }
      ]
    },
    {
      "cell_type": "code",
      "source": [
        "# Save the processed data\n",
        "df.to_csv('Processed_Marketing_Data.csv', index=False)\n",
        "print(\"\\nProcessed data saved to 'Processed_Marketing_Data.csv'\")"
      ],
      "metadata": {
        "colab": {
          "base_uri": "https://localhost:8080/"
        },
        "id": "mPh4k23TzTj8",
        "outputId": "a162e800-4730-414e-b8a3-071db756a85b"
      },
      "execution_count": 18,
      "outputs": [
        {
          "output_type": "stream",
          "name": "stdout",
          "text": [
            "\n",
            "Processed data saved to 'Processed_Marketing_Data.csv'\n"
          ]
        }
      ]
    },
    {
      "cell_type": "code",
      "source": [
        " #Create some basic visualizations\n",
        "plt.figure(figsize=(12, 6))\n",
        "sns.barplot(x='Channel', y='ROI', data=df)\n",
        "plt.title('Average ROI by Channel')\n",
        "plt.savefig('ROI_by_Channel.png')\n",
        "plt.close()\n",
        "\n",
        "plt.figure(figsize=(12, 6))\n",
        "sns.scatterplot(x='CPA', y='ROI', hue='Channel', size='Cost', data=df)\n",
        "plt.title('ROI vs CPA by Channel')\n",
        "plt.savefig('ROI_vs_CPA.png')\n",
        "plt.close()\n",
        "\n",
        "print(\"\\nVisualization images saved: 'ROI_by_Channel.png' and 'ROI_vs_CPA.png'\")"
      ],
      "metadata": {
        "colab": {
          "base_uri": "https://localhost:8080/"
        },
        "id": "fkjwaDIszTmt",
        "outputId": "96e65dc3-1850-4b09-dd26-f095744c627d"
      },
      "execution_count": 20,
      "outputs": [
        {
          "output_type": "stream",
          "name": "stdout",
          "text": [
            "\n",
            "Visualization images saved: 'ROI_by_Channel.png' and 'ROI_vs_CPA.png'\n"
          ]
        }
      ]
    },
    {
      "cell_type": "code",
      "source": [],
      "metadata": {
        "id": "0SnXUg5Y0Qff"
      },
      "execution_count": null,
      "outputs": []
    },
    {
      "cell_type": "code",
      "source": [],
      "metadata": {
        "id": "_ZOfy6tMzTqM"
      },
      "execution_count": null,
      "outputs": []
    },
    {
      "cell_type": "code",
      "source": [],
      "metadata": {
        "id": "bHVKI7p-zT9Y"
      },
      "execution_count": null,
      "outputs": []
    },
    {
      "cell_type": "code",
      "source": [],
      "metadata": {
        "id": "MkvsWHOY0RAQ"
      },
      "execution_count": null,
      "outputs": []
    }
  ]
}